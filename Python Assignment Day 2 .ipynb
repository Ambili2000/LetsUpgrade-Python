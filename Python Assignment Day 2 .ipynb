{
 "cells": [
  {
   "cell_type": "code",
   "execution_count": null,
   "metadata": {},
   "outputs": [],
   "source": [
    "Q.No.1 #List and its default functions"
   ]
  },
  {
   "cell_type": "code",
   "execution_count": 2,
   "metadata": {},
   "outputs": [
    {
     "name": "stdout",
     "output_type": "stream",
     "text": [
      "['Jansi', 'Devi', 'Durga', 'Shivani', 'devi']\n"
     ]
    }
   ],
   "source": [
    "#(i) Add  list element as value of list\n",
    "# append():\n",
    "list = [\"Jansi\",\"Devi\",\"Durga\",\"Shivani\"]\n",
    "list.append(\"devi\")\n",
    "print(list)"
   ]
  },
  {
   "cell_type": "code",
   "execution_count": 3,
   "metadata": {},
   "outputs": [
    {
     "name": "stdout",
     "output_type": "stream",
     "text": [
      "['Jansi', 'Devi', 'Durga', 'Shivani', 'devi', 1990]\n"
     ]
    }
   ],
   "source": [
    "# (ii)Insert():\n",
    "# Insert at index value 1990\n",
    "list.insert(1969,1990)\n",
    "print(list)"
   ]
  },
  {
   "cell_type": "code",
   "execution_count": 7,
   "metadata": {},
   "outputs": [
    {
     "name": "stdout",
     "output_type": "stream",
     "text": [
      "[12, 23, 34, 45, 34, 45, 56, 67, 78]\n",
      "[34, 45, 56, 67, 78, 12, 23, 34, 45, 34, 45, 56, 67, 78]\n"
     ]
    }
   ],
   "source": [
    "# (iii) extend():\n",
    "List1 = [12, 23, 34, 45]\n",
    "\n",
    "List2 = [34, 45, 56, 67, 78]\n",
    "\n",
    "# Add List2 to List1\n",
    "List1.extend(List2)\n",
    "\n",
    "print(List1)\n",
    "\n",
    "#Add List1 to List2 now\n",
    "List2.extend(List1)\n",
    "\n",
    "print(List2)\n"
   ]
  },
  {
   "cell_type": "code",
   "execution_count": 9,
   "metadata": {},
   "outputs": [
    {
     "name": "stdout",
     "output_type": "stream",
     "text": [
      "6\n"
     ]
    }
   ],
   "source": [
    "# (iv) count():\n",
    "List = [10, 43, 12, 10, 26, 9, 10, 47, 25, 78, 10, 10, 56, 10]\n",
    "print(List.count(10))"
   ]
  },
  {
   "cell_type": "code",
   "execution_count": 13,
   "metadata": {},
   "outputs": [
    {
     "name": "stdout",
     "output_type": "stream",
     "text": [
      "['28', '36', '59', '10']\n",
      "[]\n"
     ]
    }
   ],
   "source": [
    "#(v) clear():\n",
    "List = [\"28\", \"36\", \"59\", \"10\"]\n",
    "print(List)\n",
    "\n",
    "List.clear()\n",
    "print(List)"
   ]
  },
  {
   "cell_type": "code",
   "execution_count": 12,
   "metadata": {},
   "outputs": [
    {
     "name": "stdout",
     "output_type": "stream",
     "text": [
      "['A', 'B', 'Z', 'C', 'D']\n",
      "['A', 'B', 'C', 'D']\n"
     ]
    }
   ],
   "source": [
    "#(vi) remove():\n",
    "List = [\"A\", \"B\", \"Z\", \"C\", \"D\"]\n",
    "print (List)\n",
    "\n",
    "List.remove(\"Z\")\n",
    "print(List)\n"
   ]
  },
  {
   "cell_type": "code",
   "execution_count": null,
   "metadata": {},
   "outputs": [],
   "source": [
    "Q.No.2 # Dictionary & its default functions"
   ]
  },
  {
   "cell_type": "code",
   "execution_count": 17,
   "metadata": {},
   "outputs": [
    {
     "name": "stdout",
     "output_type": "stream",
     "text": [
      "dict['Name']:  Divya\n",
      "dict['Age']:  20\n"
     ]
    }
   ],
   "source": [
    "#(i) new entry\n",
    "dict ={'Name': 'Divya', 'Age':20, 'Class': 'B.com'}\n",
    "\n",
    "print (\"dict['Name']: \", dict['Name'])\n",
    "print (\"dict['Age']: \", dict['Age'])"
   ]
  },
  {
   "cell_type": "code",
   "execution_count": 19,
   "metadata": {},
   "outputs": [
    {
     "name": "stdout",
     "output_type": "stream",
     "text": [
      "dict['Age']:  8\n",
      "dict['Collage']:  DGVC\n"
     ]
    }
   ],
   "source": [
    "#(ii) updating existing entry\n",
    "dict ={'Name': 'Divya', 'Age':20, 'Class': 'B.com'}\n",
    "dict['Age'] = 8 ;\n",
    "dict['Collage'] = \"DGVC\" \n",
    "\n",
    "print(\"dict['Age']: \", dict['Age'])\n",
    "print(\"dict['Collage']: \", dict['Collage'])\n"
   ]
  },
  {
   "cell_type": "code",
   "execution_count": 20,
   "metadata": {},
   "outputs": [
    {
     "name": "stdout",
     "output_type": "stream",
     "text": [
      "dict['Name']:  Anu\n"
     ]
    }
   ],
   "source": [
    "#(iii) duplicate entry\n",
    "dict ={'Name': 'Divya', 'Age':20, 'Class': 'B.com' , 'Name': 'Anu'}\n",
    "print (\"dict['Name']: \", dict['Name'])"
   ]
  },
  {
   "cell_type": "code",
   "execution_count": null,
   "metadata": {},
   "outputs": [],
   "source": [
    "Q.No.3 Sets and its default functions"
   ]
  },
  {
   "cell_type": "code",
   "execution_count": 22,
   "metadata": {},
   "outputs": [
    {
     "name": "stdout",
     "output_type": "stream",
     "text": [
      "{1, 2, 3, 4}\n"
     ]
    }
   ],
   "source": [
    "#(i) set of integers\n",
    "set = {1, 2, 3, 4}\n",
    "print(set)\n"
   ]
  },
  {
   "cell_type": "code",
   "execution_count": 23,
   "metadata": {},
   "outputs": [
    {
     "name": "stdout",
     "output_type": "stream",
     "text": [
      "{1, 2, 3, 4}\n",
      "{1.0, 'Element', (10, 20, 30)}\n"
     ]
    }
   ],
   "source": [
    "#(ii) set of mixed datatypes\n",
    "set = {1, 2, 3, 4}\n",
    "print(set)\n",
    "\n",
    "set2 = {1.0,\"Element\", (10, 20, 30)}\n",
    "print(set2)"
   ]
  },
  {
   "cell_type": "code",
   "execution_count": 24,
   "metadata": {},
   "outputs": [
    {
     "name": "stdout",
     "output_type": "stream",
     "text": [
      "{40, 50, 20, 60}\n"
     ]
    }
   ],
   "source": [
    "#(iii) duplicate sets\n",
    "set = {20, 40, 20, 50, 60}\n",
    "print(set)"
   ]
  },
  {
   "cell_type": "code",
   "execution_count": 25,
   "metadata": {},
   "outputs": [
    {
     "name": "stdout",
     "output_type": "stream",
     "text": [
      "{1, 2, 3, 4, 5, 6, 7, 8, 9}\n"
     ]
    }
   ],
   "source": [
    "#(iv) add an elememt\n",
    "set = {1, 3, 4, 5, 6, 7, 8, 9,}\n",
    "set.add(2)\n",
    "print(set)"
   ]
  },
  {
   "cell_type": "code",
   "execution_count": 26,
   "metadata": {},
   "outputs": [
    {
     "name": "stdout",
     "output_type": "stream",
     "text": [
      "{35, 40, 10, 45, 15, 50, 20, 25, 30}\n"
     ]
    }
   ],
   "source": [
    "#(v) add multiple element\n",
    "set = {10, 20, 30, 40, 50}\n",
    "set.update([15, 25, 35, 45])\n",
    "print(set)"
   ]
  },
  {
   "cell_type": "code",
   "execution_count": null,
   "metadata": {},
   "outputs": [],
   "source": [
    "Q.No.4 tuple and explore default functions"
   ]
  },
  {
   "cell_type": "code",
   "execution_count": 27,
   "metadata": {},
   "outputs": [
    {
     "name": "stdout",
     "output_type": "stream",
     "text": [
      "((), 10, 200, 300, 400, 500)\n"
     ]
    }
   ],
   "source": [
    "#(i) empty amd ineger tuple\n",
    "tuple =((), 10, 200, 300, 400, 500)\n",
    "print(tuple)"
   ]
  },
  {
   "cell_type": "code",
   "execution_count": 28,
   "metadata": {},
   "outputs": [
    {
     "name": "stdout",
     "output_type": "stream",
     "text": [
      "(20, 'Anamika', 100.23456)\n"
     ]
    }
   ],
   "source": [
    "#(ii) tuple with mixed data\n",
    "tuple = (20, \"Anamika\", 100.23456)\n",
    "print(tuple)"
   ]
  },
  {
   "cell_type": "code",
   "execution_count": 29,
   "metadata": {},
   "outputs": [
    {
     "name": "stdout",
     "output_type": "stream",
     "text": [
      "('Name', [22, 44, 66, 88], (11, 33, 55, 77, 99))\n"
     ]
    }
   ],
   "source": [
    "#(iii) nested tuple\n",
    "tuple = (\"Name\", [22, 44, 66, 88],(11, 33, 55, 77, 99))\n",
    "print(tuple)"
   ]
  },
  {
   "cell_type": "code",
   "execution_count": 33,
   "metadata": {},
   "outputs": [
    {
     "name": "stdout",
     "output_type": "stream",
     "text": [
      "200\n",
      "500.123456\n",
      "Vishwa\n"
     ]
    }
   ],
   "source": [
    "#(iv) tuple unpacking\n",
    "a, b, c = tuple\n",
    "tuple = (200, 500.123456, \"Vishwa\")\n",
    "\n",
    "\n",
    "print(a)  # 200\n",
    "print(b)  # 500.123456\n",
    "print(c)  # vishwa"
   ]
  },
  {
   "cell_type": "code",
   "execution_count": 34,
   "metadata": {},
   "outputs": [
    {
     "name": "stdout",
     "output_type": "stream",
     "text": [
      "e\n",
      "u\n"
     ]
    }
   ],
   "source": [
    "#(v) Accessing tuple element using indexing\n",
    "tuple = ('a', 'e', 'i', 'o', 'u')\n",
    "\n",
    "print(tuple[1])\n",
    "print(tuple[4])\n"
   ]
  },
  {
   "cell_type": "code",
   "execution_count": null,
   "metadata": {},
   "outputs": [],
   "source": [
    "Q.No.5 String and Explore"
   ]
  },
  {
   "cell_type": "code",
   "execution_count": 35,
   "metadata": {},
   "outputs": [
    {
     "name": "stdout",
     "output_type": "stream",
     "text": [
      "str =  data\n"
     ]
    }
   ],
   "source": [
    "#(i) Accessing string characters\n",
    "str='data'\n",
    "\n",
    "print('str = ', str)"
   ]
  },
  {
   "cell_type": "code",
   "execution_count": 37,
   "metadata": {},
   "outputs": [
    {
     "name": "stdout",
     "output_type": "stream",
     "text": [
      "str[0]= A\n",
      "str[-1]= t\n"
     ]
    }
   ],
   "source": [
    "#(ii)first and last character\n",
    "str = 'Assignment'\n",
    "\n",
    "print('str[0]=', str[0])\n",
    "print('str[-1]=', str[-1])"
   ]
  },
  {
   "cell_type": "code",
   "execution_count": 38,
   "metadata": {},
   "outputs": [
    {
     "name": "stdout",
     "output_type": "stream",
     "text": [
      "str1 + str2 = 1000\n",
      "str1 *5 = 500\n"
     ]
    }
   ],
   "source": [
    "#(iii) string operation\n",
    "\n",
    "str1 = 100\n",
    "str2 = 900\n",
    "\n",
    "print('str1 + str2 =', str1 + str2)\n",
    "print('str1 *5 =', str1 *5)"
   ]
  },
  {
   "cell_type": "code",
   "execution_count": 41,
   "metadata": {},
   "outputs": [
    {
     "name": "stdout",
     "output_type": "stream",
     "text": [
      "1 letters found\n"
     ]
    }
   ],
   "source": [
    "#(iv) iterating through a string\n",
    "count = 0\n",
    "for letter in 'Alphabet':\n",
    "    if(letter =='e'):\n",
    "        count +=1\n",
    "        \n",
    "print(count, 'letters found')        \n",
    "        "
   ]
  },
  {
   "cell_type": "code",
   "execution_count": null,
   "metadata": {},
   "outputs": [],
   "source": []
  }
 ],
 "metadata": {
  "kernelspec": {
   "display_name": "Python 3",
   "language": "python",
   "name": "python3"
  },
  "language_info": {
   "codemirror_mode": {
    "name": "ipython",
    "version": 3
   },
   "file_extension": ".py",
   "mimetype": "text/x-python",
   "name": "python",
   "nbconvert_exporter": "python",
   "pygments_lexer": "ipython3",
   "version": "3.8.3"
  }
 },
 "nbformat": 4,
 "nbformat_minor": 4
}
